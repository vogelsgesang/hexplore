{
 "cells": [
  {
   "cell_type": "markdown",
   "metadata": {},
   "source": [
    "# Handling data"
   ]
  },
  {
   "cell_type": "markdown",
   "metadata": {},
   "source": [
    "The `HexViewer` widget can be used to display arbitrary Python `bytes` objects. You can provide the data to the constructor of the "
   ]
  },
  {
   "cell_type": "code",
   "execution_count": 1,
   "metadata": {},
   "outputs": [
    {
     "data": {
      "application/vnd.jupyter.widget-view+json": {
       "model_id": "40788c607be34281b9dc5b03b695ad71",
       "version_major": 2,
       "version_minor": 0
      },
      "text/plain": [
       "HexViewer(columns=[{'rendererType': 'Address', 'displayBase': 16}, {'rendererType': 'Integer', 'signed': Fal…"
      ]
     },
     "metadata": {},
     "output_type": "display_data"
    }
   ],
   "source": [
    "from ipyhexplore import HexViewer \n",
    "\n",
    "data = b'Your data: \\xDE\\xAD\\xBE\\xEF'\n",
    "w = HexViewer(data)\n",
    "display(w)"
   ]
  },
  {
   "cell_type": "markdown",
   "metadata": {},
   "source": [
    "The binary data is stored in the `data` property of the widget and can be modified"
   ]
  },
  {
   "cell_type": "code",
   "execution_count": 2,
   "metadata": {},
   "outputs": [],
   "source": [
    "w.data = b'Binary data to the people'"
   ]
  },
  {
   "cell_type": "markdown",
   "metadata": {},
   "source": [
    "The widget doesn't care where you get the data from. In the easiest case, you can load it from a file"
   ]
  },
  {
   "cell_type": "code",
   "execution_count": 3,
   "metadata": {},
   "outputs": [
    {
     "data": {
      "application/vnd.jupyter.widget-view+json": {
       "model_id": "6d75d6940a4344ad9e2f4903900b5a00",
       "version_major": 2,
       "version_minor": 0
      },
      "text/plain": [
       "HexViewer(columns=[{'rendererType': 'Address', 'displayBase': 16}, {'rendererType': 'Integer', 'signed': Fal…"
      ]
     },
     "metadata": {},
     "output_type": "display_data"
    }
   ],
   "source": [
    "with open(\"test.data\", \"rb\") as f:\n",
    "    fdata = f.read()\n",
    "HexViewer(fdata)"
   ]
  }
 ],
 "metadata": {
  "kernelspec": {
   "display_name": "Python 3",
   "language": "python",
   "name": "python3"
  },
  "language_info": {
   "codemirror_mode": {
    "name": "ipython",
    "version": 3
   },
   "file_extension": ".py",
   "mimetype": "text/x-python",
   "name": "python",
   "nbconvert_exporter": "python",
   "pygments_lexer": "ipython3",
   "version": "3.7.5"
  }
 },
 "nbformat": 4,
 "nbformat_minor": 4
}

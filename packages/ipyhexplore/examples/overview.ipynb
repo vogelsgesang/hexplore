{
 "cells": [
  {
   "cell_type": "markdown",
   "metadata": {},
   "source": [
    "# Overview of the `HexViewer` widget"
   ]
  },
  {
   "cell_type": "code",
   "execution_count": 1,
   "metadata": {},
   "outputs": [],
   "source": [
    "from ipyhexplore import HexViewer "
   ]
  },
  {
   "cell_type": "markdown",
   "metadata": {},
   "source": [
    "Using the `HexViewer` widget, you can inspect arbitrary Python `bytes` objects."
   ]
  },
  {
   "cell_type": "code",
   "execution_count": 2,
   "metadata": {},
   "outputs": [
    {
     "data": {
      "application/vnd.jupyter.widget-view+json": {
       "model_id": "e779e1a960b54510a8248d3bff521fff",
       "version_major": 2,
       "version_minor": 0
      },
      "text/plain": [
       "HexViewer(columns=[{'rendererType': 'Address', 'displayBase': 16}, {'rendererType': 'Integer', 'signed': Fal…"
      ]
     },
     "metadata": {},
     "output_type": "display_data"
    }
   ],
   "source": [
    "data = b'Your data: \\xDE\\xAD\\xBE\\xEF -- more data...'\n",
    "w = HexViewer(data)\n",
    "display(w)"
   ]
  },
  {
   "cell_type": "markdown",
   "metadata": {},
   "source": [
    "You can highlight parts of the binary data. Using this, one can e.g. build a simple \"search\" functionality"
   ]
  },
  {
   "cell_type": "code",
   "execution_count": 3,
   "metadata": {},
   "outputs": [],
   "source": [
    "import re\n",
    "w.highlight_ranges = list({\n",
    "        \"from\": m.start(),\n",
    "        \"to\": m.end(),\n",
    "        \"style\": \"red\"\n",
    "    } for m in re.finditer(b\"data\", data))"
   ]
  },
  {
   "cell_type": "markdown",
   "metadata": {},
   "source": [
    "The `HexViewer` widget can also be used to build interactive widgets. It exposes the cursor position and it allows to select data ranges"
   ]
  },
  {
   "cell_type": "code",
   "execution_count": 4,
   "metadata": {},
   "outputs": [
    {
     "data": {
      "application/vnd.jupyter.widget-view+json": {
       "model_id": "4615365c5b40489ca99afbf6044a53d2",
       "version_major": 2,
       "version_minor": 0
      },
      "text/plain": [
       "VBox(children=(HexViewer(columns=[{'rendererType': 'Address', 'displayBase': 16}, {'rendererType': 'Integer'…"
      ]
     },
     "metadata": {},
     "output_type": "display_data"
    }
   ],
   "source": [
    "import ipywidgets\n",
    "from zlib import crc32\n",
    "\n",
    "data = b'Your data: \\xDE\\xAD\\xBE\\xEF - \\xBE\\xEF\\xBE\\xEF'\n",
    "w_crc32 = HexViewer(data)\n",
    "lbl_selected = ipywidgets.Label(value=\"\")\n",
    "lbl_crc32 = ipywidgets.Label(value=\"Select a range to compute the CRC32 sum of...\")\n",
    "\n",
    "def handle_selection_change(change):\n",
    "    begin = w_crc32.selection_from\n",
    "    end = w_crc32.selection_to\n",
    "    selected = data[begin:end]\n",
    "    lbl_selected.value = f\"selected range {begin}-{end}: '{selected.hex()}'\"\n",
    "    lbl_crc32.value = f\"CRC32 sum: {crc32(selected)}\"\n",
    "\n",
    "w_crc32.observe(handle_selection_change, names='selection_from')\n",
    "w_crc32.observe(handle_selection_change, names='selection_to')\n",
    "\n",
    "ipywidgets.VBox([w_crc32, lbl_selected, lbl_crc32])"
   ]
  }
 ],
 "metadata": {
  "kernelspec": {
   "display_name": "Python 3",
   "language": "python",
   "name": "python3"
  },
  "language_info": {
   "codemirror_mode": {
    "name": "ipython",
    "version": 3
   },
   "file_extension": ".py",
   "mimetype": "text/x-python",
   "name": "python",
   "nbconvert_exporter": "python",
   "pygments_lexer": "ipython3",
   "version": "3.7.5"
  }
 },
 "nbformat": 4,
 "nbformat_minor": 4
}

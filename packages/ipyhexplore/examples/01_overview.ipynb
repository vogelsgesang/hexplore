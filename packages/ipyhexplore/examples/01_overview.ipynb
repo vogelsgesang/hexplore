{
 "cells": [
  {
   "cell_type": "markdown",
   "metadata": {},
   "source": [
    "# Overview of the `HexViewer` widget"
   ]
  },
  {
   "cell_type": "code",
   "execution_count": null,
   "metadata": {},
   "outputs": [],
   "source": [
    "from ipyhexplore import HexViewer "
   ]
  },
  {
   "cell_type": "markdown",
   "metadata": {},
   "source": [
    "Using the `HexViewer` widget, you can inspect arbitrary Python `bytes` objects."
   ]
  },
  {
   "cell_type": "code",
   "execution_count": null,
   "metadata": {},
   "outputs": [],
   "source": [
    "data = b'Your data: \\xDE\\xAD\\xBE\\xEF -- more data...'\n",
    "w = HexViewer(data)\n",
    "display(w)"
   ]
  },
  {
   "cell_type": "markdown",
   "metadata": {},
   "source": [
    "You can highlight parts of the binary data. Using this, one can e.g. build a simple \"search\" functionality"
   ]
  },
  {
   "cell_type": "code",
   "execution_count": null,
   "metadata": {},
   "outputs": [],
   "source": [
    "import re\n",
    "w.highlight_ranges = list({\n",
    "        \"from\": m.start(),\n",
    "        \"to\": m.end(),\n",
    "        \"style\": \"red\"\n",
    "    } for m in re.finditer(b\"data\", data))"
   ]
  },
  {
   "cell_type": "markdown",
   "metadata": {},
   "source": [
    "The `HexViewer` widget can also be used to build interactive widgets. It exposes the cursor position and it allows to select data ranges"
   ]
  },
  {
   "cell_type": "code",
   "execution_count": null,
   "metadata": {},
   "outputs": [],
   "source": [
    "import ipywidgets\n",
    "from ipyhexplore import HexViewer \n",
    "from zlib import crc32\n",
    "\n",
    "data_crc32 = b'Your data: \\xDE\\xAD\\xBE\\xEF - \\xBE\\xEF\\xBE\\xEF'\n",
    "w_crc32 = HexViewer(data_crc32)\n",
    "lbl_selected = ipywidgets.Label(value=\"\")\n",
    "lbl_crc32 = ipywidgets.Label(value=\"Select a range to compute the CRC32 sum of...\")\n",
    "\n",
    "def handle_selection_change(change):\n",
    "    begin = w_crc32.selection_from\n",
    "    end = w_crc32.selection_to\n",
    "    selected = data[begin:end]\n",
    "    lbl_selected.value = f\"selected range {begin}-{end}: '{selected.hex()}'\"\n",
    "    lbl_crc32.value = f\"CRC32 sum: {crc32(selected)}\"\n",
    "\n",
    "w_crc32.observe(handle_selection_change, names='selection_from')\n",
    "w_crc32.observe(handle_selection_change, names='selection_to')\n",
    "\n",
    "ipywidgets.VBox([w_crc32, lbl_selected, lbl_crc32])"
   ]
  }
 ],
 "metadata": {
  "kernelspec": {
   "display_name": "Python 3",
   "language": "python",
   "name": "python3"
  },
  "language_info": {
   "codemirror_mode": {
    "name": "ipython",
    "version": 3
   },
   "file_extension": ".py",
   "mimetype": "text/x-python",
   "name": "python",
   "nbconvert_exporter": "python",
   "pygments_lexer": "ipython3",
   "version": "3.7.5"
  }
 },
 "nbformat": 4,
 "nbformat_minor": 4
}
